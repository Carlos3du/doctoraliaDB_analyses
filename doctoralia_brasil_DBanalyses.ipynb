{
  "nbformat": 4,
  "nbformat_minor": 0,
  "metadata": {
    "colab": {
      "provenance": [],
      "include_colab_link": true
    },
    "kernelspec": {
      "name": "python3",
      "display_name": "Python 3"
    },
    "language_info": {
      "name": "python"
    }
  },
  "cells": [
    {
      "cell_type": "markdown",
      "metadata": {
        "id": "view-in-github",
        "colab_type": "text"
      },
      "source": [
        "<a href=\"https://colab.research.google.com/github/Carlos3du/doctoraliaDB_analyses/blob/main/doctoralia_brasil_DBanalyses.ipynb\" target=\"_parent\"><img src=\"https://colab.research.google.com/assets/colab-badge.svg\" alt=\"Open In Colab\"/></a>"
      ]
    },
    {
      "cell_type": "markdown",
      "source": [
        "Link do Database utilizado: https://www.kaggle.com/datasets/miguelcorraljr/doctoralia-brasil\n"
      ],
      "metadata": {
        "id": "-DEUxAXdEdyE"
      }
    },
    {
      "cell_type": "code",
      "execution_count": null,
      "metadata": {
        "id": "qRwM7ISQ-ZNE"
      },
      "outputs": [],
      "source": [
        "#Importando as bibliotecas\n",
        "\n",
        "import pandas as pd\n",
        "import numpy as np\n",
        "import matplotlib.pyplot as plt\n",
        "\n",
        "\n",
        "from google.colab import files\n",
        "from google.colab import drive"
      ]
    },
    {
      "cell_type": "code",
      "source": [
        "#Chamando o google drive e fazendo o upload dos arquivos dele\n",
        "\n",
        "drive.mount('/content/gdrive')"
      ],
      "metadata": {
        "id": "bwni-8gPAEXu",
        "colab": {
          "base_uri": "https://localhost:8080/"
        },
        "outputId": "f38fbf5f-c0c1-4291-c04f-f6b7e17c26cf"
      },
      "execution_count": null,
      "outputs": [
        {
          "output_type": "stream",
          "name": "stdout",
          "text": [
            "Drive already mounted at /content/gdrive; to attempt to forcibly remount, call drive.mount(\"/content/gdrive\", force_remount=True).\n"
          ]
        }
      ]
    },
    {
      "cell_type": "code",
      "source": [
        "#Lendo as primeiras 10 linhas do arquivo do dataset\n",
        "\n",
        "data = pd.read_csv('/content/gdrive/MyDrive/doctoralia_ds/202210_doctoralia_br.csv')\n",
        "\n",
        "\n",
        "data['specialization'] = data['specialization'].fillna('None')\n",
        "data = data.drop(data[data['specialization'] == 'None'].index)\n",
        "\n",
        "\n",
        "data['price'] = data['price'].fillna('None')\n",
        "data = data.drop(data[data['price'] == 'None'].index)\n",
        "data = data.drop(data[data['price'] == 'Consultar valores'].index)\n",
        "\n",
        "\n",
        "data.head(10)\n"
      ],
      "metadata": {
        "colab": {
          "base_uri": "https://localhost:8080/",
          "height": 537
        },
        "id": "YDQiff0SAui4",
        "outputId": "18b4d45c-26b5-4265-87b2-62512a9427c9"
      },
      "execution_count": null,
      "outputs": [
        {
          "output_type": "execute_result",
          "data": {
            "text/plain": [
              "    doctor_id title                           name           city1  \\\n",
              "0        7749   Dr.                 Octavio Grecco       São Paulo   \n",
              "1      424668  Dra.        Marcia Toraiwa Iwashita       São Paulo   \n",
              "2      758125  Dra.  Pamela Fernanda Alves Barbosa       São Paulo   \n",
              "3      544831  Dra.           Marilene Ricci Ganem       São Paulo   \n",
              "4      719643  Dra.  Gabriela De Oliveira Ferreira  Campina Grande   \n",
              "5      382053  Dra.               Lucia Cavalcanti  Rio de Janeiro   \n",
              "6      468387   Dr.        Fernando Gomes Carvalho  Belo Horizonte   \n",
              "7      231556  Dra.        Bianca Selva Figueiredo       Joinville   \n",
              "8      302183  Dra.                Ana Paula Rosis       São Paulo   \n",
              "10     733608  Dra.                  Barbara Mello  Ribeirão Preto   \n",
              "\n",
              "             city2             region specialization  reviews  \\\n",
              "0        sao-paulo       sao-paulo-sp      alergista      5.0   \n",
              "1        sao-paulo       sao-paulo-sp      alergista     41.0   \n",
              "2        sao-paulo       sao-paulo-sp      alergista     19.0   \n",
              "3        sao-paulo       sao-paulo-sp      alergista    114.0   \n",
              "4   campina-grande         paraiba-pb      alergista    164.0   \n",
              "5   rio-de-janeiro  rio-de-janeiro-rj      alergista     36.0   \n",
              "6   belo-horizonte    minas-gerais-mg      alergista    201.0   \n",
              "7        joinville  santa-catarina-sc      alergista    338.0   \n",
              "8        sao-paulo       sao-paulo-sp      alergista     84.0   \n",
              "10  ribeirao-preto       sao-paulo-sp      alergista      9.0   \n",
              "\n",
              "           newest_review_date  telemedicine price  \\\n",
              "0   2022-10-13T16:50:21-03:00             0   800   \n",
              "1   2022-10-25T13:28:19-03:00             1   600   \n",
              "2   2022-10-19T21:24:28-03:00             0   490   \n",
              "3   2022-10-18T12:21:51-03:00             1   300   \n",
              "4   2022-10-28T12:03:08-03:00             1   350   \n",
              "5   2022-10-27T14:36:57-03:00             1   350   \n",
              "6   2022-10-20T12:53:48-03:00             0   350   \n",
              "7   2022-10-26T13:27:31-03:00             1   600   \n",
              "8   2022-09-30T16:54:14-03:00             1   500   \n",
              "10  2022-10-25T09:52:14-03:00             1   350   \n",
              "\n",
              "                                                  url           fetch_time  \n",
              "0         http://www.doctoralia.com.br/octavio-grecco  2022-10-28 20:55:01  \n",
              "1   http://www.doctoralia.com.br/marcia-toraiwa-iw...  2022-10-28 20:55:02  \n",
              "2   http://www.doctoralia.com.br/pamela-fernanda-a...  2022-10-28 20:55:05  \n",
              "3   http://www.doctoralia.com.br/marilene-ricci-ganem  2022-10-28 20:55:06  \n",
              "4   http://www.doctoralia.com.br/gabriela-de-olive...  2022-10-28 20:55:08  \n",
              "5       http://www.doctoralia.com.br/lucia-cavalcanti  2022-10-28 20:55:10  \n",
              "6   http://www.doctoralia.com.br/fernando-gomes-ca...  2022-10-28 20:55:10  \n",
              "7   http://www.doctoralia.com.br/bianca-selva-figu...  2022-10-28 20:55:12  \n",
              "8        http://www.doctoralia.com.br/ana-paula-rosis  2022-10-28 20:55:15  \n",
              "10         http://www.doctoralia.com.br/barbara-mello  2022-10-28 20:55:20  "
            ],
            "text/html": [
              "\n",
              "  <div id=\"df-455bf311-886d-4af8-9ed1-495e5eca5ee2\" class=\"colab-df-container\">\n",
              "    <div>\n",
              "<style scoped>\n",
              "    .dataframe tbody tr th:only-of-type {\n",
              "        vertical-align: middle;\n",
              "    }\n",
              "\n",
              "    .dataframe tbody tr th {\n",
              "        vertical-align: top;\n",
              "    }\n",
              "\n",
              "    .dataframe thead th {\n",
              "        text-align: right;\n",
              "    }\n",
              "</style>\n",
              "<table border=\"1\" class=\"dataframe\">\n",
              "  <thead>\n",
              "    <tr style=\"text-align: right;\">\n",
              "      <th></th>\n",
              "      <th>doctor_id</th>\n",
              "      <th>title</th>\n",
              "      <th>name</th>\n",
              "      <th>city1</th>\n",
              "      <th>city2</th>\n",
              "      <th>region</th>\n",
              "      <th>specialization</th>\n",
              "      <th>reviews</th>\n",
              "      <th>newest_review_date</th>\n",
              "      <th>telemedicine</th>\n",
              "      <th>price</th>\n",
              "      <th>url</th>\n",
              "      <th>fetch_time</th>\n",
              "    </tr>\n",
              "  </thead>\n",
              "  <tbody>\n",
              "    <tr>\n",
              "      <th>0</th>\n",
              "      <td>7749</td>\n",
              "      <td>Dr.</td>\n",
              "      <td>Octavio Grecco</td>\n",
              "      <td>São Paulo</td>\n",
              "      <td>sao-paulo</td>\n",
              "      <td>sao-paulo-sp</td>\n",
              "      <td>alergista</td>\n",
              "      <td>5.0</td>\n",
              "      <td>2022-10-13T16:50:21-03:00</td>\n",
              "      <td>0</td>\n",
              "      <td>800</td>\n",
              "      <td>http://www.doctoralia.com.br/octavio-grecco</td>\n",
              "      <td>2022-10-28 20:55:01</td>\n",
              "    </tr>\n",
              "    <tr>\n",
              "      <th>1</th>\n",
              "      <td>424668</td>\n",
              "      <td>Dra.</td>\n",
              "      <td>Marcia Toraiwa Iwashita</td>\n",
              "      <td>São Paulo</td>\n",
              "      <td>sao-paulo</td>\n",
              "      <td>sao-paulo-sp</td>\n",
              "      <td>alergista</td>\n",
              "      <td>41.0</td>\n",
              "      <td>2022-10-25T13:28:19-03:00</td>\n",
              "      <td>1</td>\n",
              "      <td>600</td>\n",
              "      <td>http://www.doctoralia.com.br/marcia-toraiwa-iw...</td>\n",
              "      <td>2022-10-28 20:55:02</td>\n",
              "    </tr>\n",
              "    <tr>\n",
              "      <th>2</th>\n",
              "      <td>758125</td>\n",
              "      <td>Dra.</td>\n",
              "      <td>Pamela Fernanda Alves Barbosa</td>\n",
              "      <td>São Paulo</td>\n",
              "      <td>sao-paulo</td>\n",
              "      <td>sao-paulo-sp</td>\n",
              "      <td>alergista</td>\n",
              "      <td>19.0</td>\n",
              "      <td>2022-10-19T21:24:28-03:00</td>\n",
              "      <td>0</td>\n",
              "      <td>490</td>\n",
              "      <td>http://www.doctoralia.com.br/pamela-fernanda-a...</td>\n",
              "      <td>2022-10-28 20:55:05</td>\n",
              "    </tr>\n",
              "    <tr>\n",
              "      <th>3</th>\n",
              "      <td>544831</td>\n",
              "      <td>Dra.</td>\n",
              "      <td>Marilene Ricci Ganem</td>\n",
              "      <td>São Paulo</td>\n",
              "      <td>sao-paulo</td>\n",
              "      <td>sao-paulo-sp</td>\n",
              "      <td>alergista</td>\n",
              "      <td>114.0</td>\n",
              "      <td>2022-10-18T12:21:51-03:00</td>\n",
              "      <td>1</td>\n",
              "      <td>300</td>\n",
              "      <td>http://www.doctoralia.com.br/marilene-ricci-ganem</td>\n",
              "      <td>2022-10-28 20:55:06</td>\n",
              "    </tr>\n",
              "    <tr>\n",
              "      <th>4</th>\n",
              "      <td>719643</td>\n",
              "      <td>Dra.</td>\n",
              "      <td>Gabriela De Oliveira Ferreira</td>\n",
              "      <td>Campina Grande</td>\n",
              "      <td>campina-grande</td>\n",
              "      <td>paraiba-pb</td>\n",
              "      <td>alergista</td>\n",
              "      <td>164.0</td>\n",
              "      <td>2022-10-28T12:03:08-03:00</td>\n",
              "      <td>1</td>\n",
              "      <td>350</td>\n",
              "      <td>http://www.doctoralia.com.br/gabriela-de-olive...</td>\n",
              "      <td>2022-10-28 20:55:08</td>\n",
              "    </tr>\n",
              "    <tr>\n",
              "      <th>5</th>\n",
              "      <td>382053</td>\n",
              "      <td>Dra.</td>\n",
              "      <td>Lucia Cavalcanti</td>\n",
              "      <td>Rio de Janeiro</td>\n",
              "      <td>rio-de-janeiro</td>\n",
              "      <td>rio-de-janeiro-rj</td>\n",
              "      <td>alergista</td>\n",
              "      <td>36.0</td>\n",
              "      <td>2022-10-27T14:36:57-03:00</td>\n",
              "      <td>1</td>\n",
              "      <td>350</td>\n",
              "      <td>http://www.doctoralia.com.br/lucia-cavalcanti</td>\n",
              "      <td>2022-10-28 20:55:10</td>\n",
              "    </tr>\n",
              "    <tr>\n",
              "      <th>6</th>\n",
              "      <td>468387</td>\n",
              "      <td>Dr.</td>\n",
              "      <td>Fernando Gomes Carvalho</td>\n",
              "      <td>Belo Horizonte</td>\n",
              "      <td>belo-horizonte</td>\n",
              "      <td>minas-gerais-mg</td>\n",
              "      <td>alergista</td>\n",
              "      <td>201.0</td>\n",
              "      <td>2022-10-20T12:53:48-03:00</td>\n",
              "      <td>0</td>\n",
              "      <td>350</td>\n",
              "      <td>http://www.doctoralia.com.br/fernando-gomes-ca...</td>\n",
              "      <td>2022-10-28 20:55:10</td>\n",
              "    </tr>\n",
              "    <tr>\n",
              "      <th>7</th>\n",
              "      <td>231556</td>\n",
              "      <td>Dra.</td>\n",
              "      <td>Bianca Selva Figueiredo</td>\n",
              "      <td>Joinville</td>\n",
              "      <td>joinville</td>\n",
              "      <td>santa-catarina-sc</td>\n",
              "      <td>alergista</td>\n",
              "      <td>338.0</td>\n",
              "      <td>2022-10-26T13:27:31-03:00</td>\n",
              "      <td>1</td>\n",
              "      <td>600</td>\n",
              "      <td>http://www.doctoralia.com.br/bianca-selva-figu...</td>\n",
              "      <td>2022-10-28 20:55:12</td>\n",
              "    </tr>\n",
              "    <tr>\n",
              "      <th>8</th>\n",
              "      <td>302183</td>\n",
              "      <td>Dra.</td>\n",
              "      <td>Ana Paula Rosis</td>\n",
              "      <td>São Paulo</td>\n",
              "      <td>sao-paulo</td>\n",
              "      <td>sao-paulo-sp</td>\n",
              "      <td>alergista</td>\n",
              "      <td>84.0</td>\n",
              "      <td>2022-09-30T16:54:14-03:00</td>\n",
              "      <td>1</td>\n",
              "      <td>500</td>\n",
              "      <td>http://www.doctoralia.com.br/ana-paula-rosis</td>\n",
              "      <td>2022-10-28 20:55:15</td>\n",
              "    </tr>\n",
              "    <tr>\n",
              "      <th>10</th>\n",
              "      <td>733608</td>\n",
              "      <td>Dra.</td>\n",
              "      <td>Barbara Mello</td>\n",
              "      <td>Ribeirão Preto</td>\n",
              "      <td>ribeirao-preto</td>\n",
              "      <td>sao-paulo-sp</td>\n",
              "      <td>alergista</td>\n",
              "      <td>9.0</td>\n",
              "      <td>2022-10-25T09:52:14-03:00</td>\n",
              "      <td>1</td>\n",
              "      <td>350</td>\n",
              "      <td>http://www.doctoralia.com.br/barbara-mello</td>\n",
              "      <td>2022-10-28 20:55:20</td>\n",
              "    </tr>\n",
              "  </tbody>\n",
              "</table>\n",
              "</div>\n",
              "    <div class=\"colab-df-buttons\">\n",
              "\n",
              "  <div class=\"colab-df-container\">\n",
              "    <button class=\"colab-df-convert\" onclick=\"convertToInteractive('df-455bf311-886d-4af8-9ed1-495e5eca5ee2')\"\n",
              "            title=\"Convert this dataframe to an interactive table.\"\n",
              "            style=\"display:none;\">\n",
              "\n",
              "  <svg xmlns=\"http://www.w3.org/2000/svg\" height=\"24px\" viewBox=\"0 -960 960 960\">\n",
              "    <path d=\"M120-120v-720h720v720H120Zm60-500h600v-160H180v160Zm220 220h160v-160H400v160Zm0 220h160v-160H400v160ZM180-400h160v-160H180v160Zm440 0h160v-160H620v160ZM180-180h160v-160H180v160Zm440 0h160v-160H620v160Z\"/>\n",
              "  </svg>\n",
              "    </button>\n",
              "\n",
              "  <style>\n",
              "    .colab-df-container {\n",
              "      display:flex;\n",
              "      gap: 12px;\n",
              "    }\n",
              "\n",
              "    .colab-df-convert {\n",
              "      background-color: #E8F0FE;\n",
              "      border: none;\n",
              "      border-radius: 50%;\n",
              "      cursor: pointer;\n",
              "      display: none;\n",
              "      fill: #1967D2;\n",
              "      height: 32px;\n",
              "      padding: 0 0 0 0;\n",
              "      width: 32px;\n",
              "    }\n",
              "\n",
              "    .colab-df-convert:hover {\n",
              "      background-color: #E2EBFA;\n",
              "      box-shadow: 0px 1px 2px rgba(60, 64, 67, 0.3), 0px 1px 3px 1px rgba(60, 64, 67, 0.15);\n",
              "      fill: #174EA6;\n",
              "    }\n",
              "\n",
              "    .colab-df-buttons div {\n",
              "      margin-bottom: 4px;\n",
              "    }\n",
              "\n",
              "    [theme=dark] .colab-df-convert {\n",
              "      background-color: #3B4455;\n",
              "      fill: #D2E3FC;\n",
              "    }\n",
              "\n",
              "    [theme=dark] .colab-df-convert:hover {\n",
              "      background-color: #434B5C;\n",
              "      box-shadow: 0px 1px 3px 1px rgba(0, 0, 0, 0.15);\n",
              "      filter: drop-shadow(0px 1px 2px rgba(0, 0, 0, 0.3));\n",
              "      fill: #FFFFFF;\n",
              "    }\n",
              "  </style>\n",
              "\n",
              "    <script>\n",
              "      const buttonEl =\n",
              "        document.querySelector('#df-455bf311-886d-4af8-9ed1-495e5eca5ee2 button.colab-df-convert');\n",
              "      buttonEl.style.display =\n",
              "        google.colab.kernel.accessAllowed ? 'block' : 'none';\n",
              "\n",
              "      async function convertToInteractive(key) {\n",
              "        const element = document.querySelector('#df-455bf311-886d-4af8-9ed1-495e5eca5ee2');\n",
              "        const dataTable =\n",
              "          await google.colab.kernel.invokeFunction('convertToInteractive',\n",
              "                                                    [key], {});\n",
              "        if (!dataTable) return;\n",
              "\n",
              "        const docLinkHtml = 'Like what you see? Visit the ' +\n",
              "          '<a target=\"_blank\" href=https://colab.research.google.com/notebooks/data_table.ipynb>data table notebook</a>'\n",
              "          + ' to learn more about interactive tables.';\n",
              "        element.innerHTML = '';\n",
              "        dataTable['output_type'] = 'display_data';\n",
              "        await google.colab.output.renderOutput(dataTable, element);\n",
              "        const docLink = document.createElement('div');\n",
              "        docLink.innerHTML = docLinkHtml;\n",
              "        element.appendChild(docLink);\n",
              "      }\n",
              "    </script>\n",
              "  </div>\n",
              "\n",
              "\n",
              "<div id=\"df-f1a117b2-3408-46d2-9f5f-503feec212f9\">\n",
              "  <button class=\"colab-df-quickchart\" onclick=\"quickchart('df-f1a117b2-3408-46d2-9f5f-503feec212f9')\"\n",
              "            title=\"Suggest charts\"\n",
              "            style=\"display:none;\">\n",
              "\n",
              "<svg xmlns=\"http://www.w3.org/2000/svg\" height=\"24px\"viewBox=\"0 0 24 24\"\n",
              "     width=\"24px\">\n",
              "    <g>\n",
              "        <path d=\"M19 3H5c-1.1 0-2 .9-2 2v14c0 1.1.9 2 2 2h14c1.1 0 2-.9 2-2V5c0-1.1-.9-2-2-2zM9 17H7v-7h2v7zm4 0h-2V7h2v10zm4 0h-2v-4h2v4z\"/>\n",
              "    </g>\n",
              "</svg>\n",
              "  </button>\n",
              "\n",
              "<style>\n",
              "  .colab-df-quickchart {\n",
              "      --bg-color: #E8F0FE;\n",
              "      --fill-color: #1967D2;\n",
              "      --hover-bg-color: #E2EBFA;\n",
              "      --hover-fill-color: #174EA6;\n",
              "      --disabled-fill-color: #AAA;\n",
              "      --disabled-bg-color: #DDD;\n",
              "  }\n",
              "\n",
              "  [theme=dark] .colab-df-quickchart {\n",
              "      --bg-color: #3B4455;\n",
              "      --fill-color: #D2E3FC;\n",
              "      --hover-bg-color: #434B5C;\n",
              "      --hover-fill-color: #FFFFFF;\n",
              "      --disabled-bg-color: #3B4455;\n",
              "      --disabled-fill-color: #666;\n",
              "  }\n",
              "\n",
              "  .colab-df-quickchart {\n",
              "    background-color: var(--bg-color);\n",
              "    border: none;\n",
              "    border-radius: 50%;\n",
              "    cursor: pointer;\n",
              "    display: none;\n",
              "    fill: var(--fill-color);\n",
              "    height: 32px;\n",
              "    padding: 0;\n",
              "    width: 32px;\n",
              "  }\n",
              "\n",
              "  .colab-df-quickchart:hover {\n",
              "    background-color: var(--hover-bg-color);\n",
              "    box-shadow: 0 1px 2px rgba(60, 64, 67, 0.3), 0 1px 3px 1px rgba(60, 64, 67, 0.15);\n",
              "    fill: var(--button-hover-fill-color);\n",
              "  }\n",
              "\n",
              "  .colab-df-quickchart-complete:disabled,\n",
              "  .colab-df-quickchart-complete:disabled:hover {\n",
              "    background-color: var(--disabled-bg-color);\n",
              "    fill: var(--disabled-fill-color);\n",
              "    box-shadow: none;\n",
              "  }\n",
              "\n",
              "  .colab-df-spinner {\n",
              "    border: 2px solid var(--fill-color);\n",
              "    border-color: transparent;\n",
              "    border-bottom-color: var(--fill-color);\n",
              "    animation:\n",
              "      spin 1s steps(1) infinite;\n",
              "  }\n",
              "\n",
              "  @keyframes spin {\n",
              "    0% {\n",
              "      border-color: transparent;\n",
              "      border-bottom-color: var(--fill-color);\n",
              "      border-left-color: var(--fill-color);\n",
              "    }\n",
              "    20% {\n",
              "      border-color: transparent;\n",
              "      border-left-color: var(--fill-color);\n",
              "      border-top-color: var(--fill-color);\n",
              "    }\n",
              "    30% {\n",
              "      border-color: transparent;\n",
              "      border-left-color: var(--fill-color);\n",
              "      border-top-color: var(--fill-color);\n",
              "      border-right-color: var(--fill-color);\n",
              "    }\n",
              "    40% {\n",
              "      border-color: transparent;\n",
              "      border-right-color: var(--fill-color);\n",
              "      border-top-color: var(--fill-color);\n",
              "    }\n",
              "    60% {\n",
              "      border-color: transparent;\n",
              "      border-right-color: var(--fill-color);\n",
              "    }\n",
              "    80% {\n",
              "      border-color: transparent;\n",
              "      border-right-color: var(--fill-color);\n",
              "      border-bottom-color: var(--fill-color);\n",
              "    }\n",
              "    90% {\n",
              "      border-color: transparent;\n",
              "      border-bottom-color: var(--fill-color);\n",
              "    }\n",
              "  }\n",
              "</style>\n",
              "\n",
              "  <script>\n",
              "    async function quickchart(key) {\n",
              "      const quickchartButtonEl =\n",
              "        document.querySelector('#' + key + ' button');\n",
              "      quickchartButtonEl.disabled = true;  // To prevent multiple clicks.\n",
              "      quickchartButtonEl.classList.add('colab-df-spinner');\n",
              "      try {\n",
              "        const charts = await google.colab.kernel.invokeFunction(\n",
              "            'suggestCharts', [key], {});\n",
              "      } catch (error) {\n",
              "        console.error('Error during call to suggestCharts:', error);\n",
              "      }\n",
              "      quickchartButtonEl.classList.remove('colab-df-spinner');\n",
              "      quickchartButtonEl.classList.add('colab-df-quickchart-complete');\n",
              "    }\n",
              "    (() => {\n",
              "      let quickchartButtonEl =\n",
              "        document.querySelector('#df-f1a117b2-3408-46d2-9f5f-503feec212f9 button');\n",
              "      quickchartButtonEl.style.display =\n",
              "        google.colab.kernel.accessAllowed ? 'block' : 'none';\n",
              "    })();\n",
              "  </script>\n",
              "</div>\n",
              "    </div>\n",
              "  </div>\n"
            ],
            "application/vnd.google.colaboratory.intrinsic+json": {
              "type": "dataframe",
              "variable_name": "data",
              "summary": "{\n  \"name\": \"data\",\n  \"rows\": 34344,\n  \"fields\": [\n    {\n      \"column\": \"doctor_id\",\n      \"properties\": {\n        \"dtype\": \"number\",\n        \"std\": 248577,\n        \"min\": 105,\n        \"max\": 786177,\n        \"num_unique_values\": 34344,\n        \"samples\": [\n          528224,\n          468534,\n          619016\n        ],\n        \"semantic_type\": \"\",\n        \"description\": \"\"\n      }\n    },\n    {\n      \"column\": \"title\",\n      \"properties\": {\n        \"dtype\": \"category\",\n        \"num_unique_values\": 3,\n        \"samples\": [\n          \"Dr.\",\n          \"Dra.\",\n          \"Prof.\"\n        ],\n        \"semantic_type\": \"\",\n        \"description\": \"\"\n      }\n    },\n    {\n      \"column\": \"name\",\n      \"properties\": {\n        \"dtype\": \"string\",\n        \"num_unique_values\": 33998,\n        \"samples\": [\n          \"Marielma Silveira Da Silva\",\n          \"Bruno Borges\",\n          \"Gustavo Wandresen\"\n        ],\n        \"semantic_type\": \"\",\n        \"description\": \"\"\n      }\n    },\n    {\n      \"column\": \"city1\",\n      \"properties\": {\n        \"dtype\": \"category\",\n        \"num_unique_values\": 1138,\n        \"samples\": [\n          \"S\\u00e3o Borja\",\n          \"Santa Rita Do Sapuca\\u00ed\",\n          \"Padre Para\\u00edso\"\n        ],\n        \"semantic_type\": \"\",\n        \"description\": \"\"\n      }\n    },\n    {\n      \"column\": \"city2\",\n      \"properties\": {\n        \"dtype\": \"category\",\n        \"num_unique_values\": 1098,\n        \"samples\": [\n          \"teresina\",\n          \"aluminio\",\n          \"limeira\"\n        ],\n        \"semantic_type\": \"\",\n        \"description\": \"\"\n      }\n    },\n    {\n      \"column\": \"region\",\n      \"properties\": {\n        \"dtype\": \"category\",\n        \"num_unique_values\": 27,\n        \"samples\": [\n          \"parana-pr\",\n          \"rio-grande-do-norte-rn\",\n          \"bahia-ba\"\n        ],\n        \"semantic_type\": \"\",\n        \"description\": \"\"\n      }\n    },\n    {\n      \"column\": \"specialization\",\n      \"properties\": {\n        \"dtype\": \"category\",\n        \"num_unique_values\": 99,\n        \"samples\": [\n          \"hepatologista\",\n          \"especialista-em-medicina-fisica-e-reabilitacao\",\n          \"anatomopatologista\"\n        ],\n        \"semantic_type\": \"\",\n        \"description\": \"\"\n      }\n    },\n    {\n      \"column\": \"reviews\",\n      \"properties\": {\n        \"dtype\": \"number\",\n        \"std\": 92.3710148865539,\n        \"min\": 1.0,\n        \"max\": 1442.0,\n        \"num_unique_values\": 615,\n        \"samples\": [\n          444.0,\n          1270.0,\n          312.0\n        ],\n        \"semantic_type\": \"\",\n        \"description\": \"\"\n      }\n    },\n    {\n      \"column\": \"newest_review_date\",\n      \"properties\": {\n        \"dtype\": \"object\",\n        \"num_unique_values\": 23377,\n        \"samples\": [\n          \"2022-10-26T12:40:11-03:00\",\n          \"2022-10-25T16:42:04-03:00\",\n          \"2022-10-13T15:41:07-03:00\"\n        ],\n        \"semantic_type\": \"\",\n        \"description\": \"\"\n      }\n    },\n    {\n      \"column\": \"telemedicine\",\n      \"properties\": {\n        \"dtype\": \"number\",\n        \"std\": 0,\n        \"min\": 0,\n        \"max\": 1,\n        \"num_unique_values\": 2,\n        \"samples\": [\n          1,\n          0\n        ],\n        \"semantic_type\": \"\",\n        \"description\": \"\"\n      }\n    },\n    {\n      \"column\": \"price\",\n      \"properties\": {\n        \"dtype\": \"category\",\n        \"num_unique_values\": 378,\n        \"samples\": [\n          \"1450\",\n          \"1070\"\n        ],\n        \"semantic_type\": \"\",\n        \"description\": \"\"\n      }\n    },\n    {\n      \"column\": \"url\",\n      \"properties\": {\n        \"dtype\": \"string\",\n        \"num_unique_values\": 34344,\n        \"samples\": [\n          \"http://www.doctoralia.com.br/rodolfo-paiva\",\n          \"http://www.doctoralia.com.br/milzen-jessel-lavander-giatti\"\n        ],\n        \"semantic_type\": \"\",\n        \"description\": \"\"\n      }\n    },\n    {\n      \"column\": \"fetch_time\",\n      \"properties\": {\n        \"dtype\": \"object\",\n        \"num_unique_values\": 32873,\n        \"samples\": [\n          \"2022-10-29 15:49:31\",\n          \"2022-10-29 00:20:54\"\n        ],\n        \"semantic_type\": \"\",\n        \"description\": \"\"\n      }\n    }\n  ]\n}"
            }
          },
          "metadata": {},
          "execution_count": 59
        }
      ]
    },
    {
      "cell_type": "markdown",
      "source": [
        "##**Probabilidade Simples**"
      ],
      "metadata": {
        "id": "SucNucVeFKgR"
      }
    },
    {
      "cell_type": "code",
      "source": [
        "# Probabilidade de um médico ser um clínico\n",
        "\n",
        "qntd_clinicos = len(data[data['specialization'].str.contains('clinico')])\n",
        "p_clinico = qntd_clinicos/len(data)\n",
        "\n",
        "\n",
        "print(f'A probabilidade de um médico ser um clínico é de -> {round(p_clinico*100,2)}%')"
      ],
      "metadata": {
        "colab": {
          "base_uri": "https://localhost:8080/"
        },
        "id": "Wnwq5Qo1fNJt",
        "outputId": "420c1564-eed4-458b-da63-365d9b75bfc9"
      },
      "execution_count": null,
      "outputs": [
        {
          "output_type": "stream",
          "name": "stdout",
          "text": [
            "A probabilidade de um médico ser um clínico é de -> 1.96%\n"
          ]
        }
      ]
    },
    {
      "cell_type": "code",
      "source": [
        "# Probabilidade de um médico ser um cirurgiao\n",
        "\n",
        "qntd_cirurgiao = len(data[data['specialization'].str.contains('cirurgiao')])\n",
        "p_cirurgiao = qntd_cirurgiao/len(data)\n",
        "\n",
        "\n",
        "print(f'A probabilidade de um médico ser um cirurgiao é de -> {round(p_cirurgiao*100,2)}%')"
      ],
      "metadata": {
        "colab": {
          "base_uri": "https://localhost:8080/"
        },
        "id": "Eg3Wyg9Xiz1A",
        "outputId": "fce6fe74-3e2b-4ffd-9e7a-de471be9d296"
      },
      "execution_count": null,
      "outputs": [
        {
          "output_type": "stream",
          "name": "stdout",
          "text": [
            "A probabilidade de um médico ser um cirurgiao é de -> 8.7%\n"
          ]
        }
      ]
    },
    {
      "cell_type": "code",
      "source": [
        "# Probabilidade de um médico ser um pediatra\n",
        "\n",
        "p_pediatra = len(data[data['specialization'] == 'pediatra']) / len(data)\n",
        "\n",
        "\n",
        "print(f'A probabilidade de um médico ser um pediatra é de -> {round(p_pediatra*100,2)}%')"
      ],
      "metadata": {
        "colab": {
          "base_uri": "https://localhost:8080/"
        },
        "id": "oUfefVFxjBIs",
        "outputId": "7e5e9466-6cd9-49d4-aa41-c37715a14bc9"
      },
      "execution_count": null,
      "outputs": [
        {
          "output_type": "stream",
          "name": "stdout",
          "text": [
            "A probabilidade de um médico ser um pediatra é de -> 3.04%\n"
          ]
        }
      ]
    },
    {
      "cell_type": "code",
      "source": [
        "# Probabilidade de um médico ser um ortopedista traumatologista\n",
        "\n",
        "p_ortopedista = len(data[data['specialization'] == 'ortopedista-traumatologista']) / len(data)\n",
        "\n",
        "\n",
        "print(f'A probabilidade de um médico ser um ortopedista-traumatologista é de -> {round(p_ortopedista*100,2)}%')"
      ],
      "metadata": {
        "colab": {
          "base_uri": "https://localhost:8080/"
        },
        "id": "Dw_bZPP5khoC",
        "outputId": "3302db37-2712-488e-c340-70241331b314"
      },
      "execution_count": null,
      "outputs": [
        {
          "output_type": "stream",
          "name": "stdout",
          "text": [
            "A probabilidade de um médico ser um ortopedista-traumatologista é de -> 3.75%\n"
          ]
        }
      ]
    },
    {
      "cell_type": "code",
      "source": [
        "# Probabilidade de um médico ser um alergista\n",
        "\n",
        "p_alergista = len(data[data['specialization'] == 'alergista']) / len(data)\n",
        "\n",
        "\n",
        "print(f'A probabilidade de um médico ser alergista e de -> {round(p_alergista*100,2)}%')"
      ],
      "metadata": {
        "id": "LWVucqNWFR76",
        "colab": {
          "base_uri": "https://localhost:8080/"
        },
        "outputId": "a15a4292-3a1f-45fb-91d2-983dc1f4223e"
      },
      "execution_count": null,
      "outputs": [
        {
          "output_type": "stream",
          "name": "stdout",
          "text": [
            "A probabilidade de um médico ser alergista e de -> 0.64%\n"
          ]
        }
      ]
    },
    {
      "cell_type": "code",
      "source": [
        "# Probabilidade de um médico ser um cardiologista\n",
        "\n",
        "p_cardiologista = len(data[data['specialization'] == 'cardiologista']) / len(data)\n",
        "\n",
        "\n",
        "print(f'A probabilidade de um médico ser cardiologista é de {round(p_cardiologista*100,2)}%')"
      ],
      "metadata": {
        "id": "X5irLsuQ4VXy",
        "colab": {
          "base_uri": "https://localhost:8080/"
        },
        "outputId": "3c99efe8-4384-4fb8-897d-8077628478c8"
      },
      "execution_count": null,
      "outputs": [
        {
          "output_type": "stream",
          "name": "stdout",
          "text": [
            "A probabilidade de um médico ser cardiologista é de 3.07%\n"
          ]
        }
      ]
    },
    {
      "cell_type": "code",
      "source": [
        "# Probabilidade de um médico ser um neurologista\n",
        "\n",
        "p_neurologista = len(data[data['specialization'] == 'neurologista']) / len(data)\n",
        "\n",
        "\n",
        "print(f'A probabilidade de um médico ser neurologista é de -> {round(p_neurologista*100,2)}%')"
      ],
      "metadata": {
        "colab": {
          "base_uri": "https://localhost:8080/"
        },
        "id": "DVBP5QeF5I0I",
        "outputId": "36530c06-1a17-4f94-9b37-ec23a5d07959"
      },
      "execution_count": null,
      "outputs": [
        {
          "output_type": "stream",
          "name": "stdout",
          "text": [
            "A probabilidade de um médico ser neurologista é de -> 1.93%\n"
          ]
        }
      ]
    },
    {
      "cell_type": "code",
      "source": [
        "# Probabilidade de um médico ser um ginecologista\n",
        "\n",
        "p_ginecologista = len(data[data['specialization'] == 'ginecologista']) / len(data)\n",
        "\n",
        "\n",
        "print(f'A probabilidade de um médico ser ginecologista é de -> {round(p_ginecologista*100,2)}%')"
      ],
      "metadata": {
        "colab": {
          "base_uri": "https://localhost:8080/"
        },
        "id": "bokewYar5m0i",
        "outputId": "29d99a7b-21bb-4703-f76e-3a10673355b1"
      },
      "execution_count": null,
      "outputs": [
        {
          "output_type": "stream",
          "name": "stdout",
          "text": [
            "A probabilidade de um médico ser ginecologista é de -> 4.88%\n"
          ]
        }
      ]
    },
    {
      "cell_type": "code",
      "source": [
        "# Probabilidade do profissional de saúde ser mulher (Dra.)\n",
        "\n",
        "p_med_mulher = len(data[data['title'] == 'Dra.']) / len(data)\n",
        "\n",
        "\n",
        "print(f'A probabilidade de um profissional de saude ser mulher é de -> {round(p_med_mulher*100,2)}%')"
      ],
      "metadata": {
        "colab": {
          "base_uri": "https://localhost:8080/"
        },
        "id": "tpDxu8aURWbG",
        "outputId": "a792670c-ab3c-4413-fec4-7ed5b56ce863"
      },
      "execution_count": null,
      "outputs": [
        {
          "output_type": "stream",
          "name": "stdout",
          "text": [
            "A probabilidade de um profissional de saude ser mulher é de -> 37.32%\n"
          ]
        }
      ]
    },
    {
      "cell_type": "code",
      "source": [
        "# Probabilidade do profissional de saúde ser homem (Dr.)\n",
        "\n",
        "p_med_homem = len(data[data['title'] == 'Dr.']) / len(data)\n",
        "\n",
        "\n",
        "print(f'A probabilidade de um profissional de saude ser homem é de -> {round(p_med_homem*100,2)}%')"
      ],
      "metadata": {
        "id": "IYR8JSKQvfb2",
        "colab": {
          "base_uri": "https://localhost:8080/"
        },
        "outputId": "8df4949d-8762-408f-da30-8d41287d899a"
      },
      "execution_count": null,
      "outputs": [
        {
          "output_type": "stream",
          "name": "stdout",
          "text": [
            "A probabilidade de um profissional de saude ser homem é de -> 37.82%\n"
          ]
        }
      ]
    },
    {
      "cell_type": "code",
      "source": [
        "# Probabilidade do profissional de saúde ter mais do que 20 reviews\n",
        "\n",
        "reviews = len(data[(data['reviews'] > 20)])\n",
        "p_reviews = round(reviews/len(data), 4)\n",
        "\n",
        "\n",
        "print(f'A probabilidade do profissional de saúde ter mais do que 20 reviews é de -> {round(p_reviews*100,2)}%')"
      ],
      "metadata": {
        "colab": {
          "base_uri": "https://localhost:8080/"
        },
        "id": "y06rPEgC56I8",
        "outputId": "ef26b564-222c-4685-e301-0df0a6c102d5"
      },
      "execution_count": null,
      "outputs": [
        {
          "output_type": "stream",
          "name": "stdout",
          "text": [
            "A probabilidade do profissional de saúde ter mais do que 20 reviews é de -> 31.61%\n"
          ]
        }
      ]
    },
    {
      "cell_type": "code",
      "source": [
        "# Probabilidade do médico ter atendimento online\n",
        "\n",
        "atend_online = len(data[data['telemedicine'] == 1])\n",
        "p_atend_online = round(atend_online/len(data), 4)\n",
        "\n",
        "\n",
        "print(f'A probabilidade do médico ter atendimento online é de -> {round(p_atend_online*100,2)}%')"
      ],
      "metadata": {
        "colab": {
          "base_uri": "https://localhost:8080/"
        },
        "id": "GplExd0fpmIe",
        "outputId": "a6850ae5-fdcb-4a33-e0a5-3e505e5defa6"
      },
      "execution_count": null,
      "outputs": [
        {
          "output_type": "stream",
          "name": "stdout",
          "text": [
            "A probabilidade do médico ter atendimento online é de -> 25.28%\n"
          ]
        }
      ]
    },
    {
      "cell_type": "code",
      "source": [
        "# Probabilidade do médico ser do RS\n",
        "\n",
        "p_RS = len(data[data['region'] == 'rio-grande-do-sul-rs'])/len(data)\n",
        "\n",
        "\n",
        "print('A probabilidade do médico ser do RS é de -> ' + str(round(p_RS*100,2)) + '%')"
      ],
      "metadata": {
        "colab": {
          "base_uri": "https://localhost:8080/"
        },
        "id": "JahqYgZGL5G8",
        "outputId": "f889a88e-babf-49f1-bb64-5f4fba872714"
      },
      "execution_count": null,
      "outputs": [
        {
          "output_type": "stream",
          "name": "stdout",
          "text": [
            "A probabilidade do médico ser do RS é de -> 4.31%\n"
          ]
        }
      ]
    },
    {
      "cell_type": "code",
      "source": [
        "# Probabilidade do médico ser do RJ\n",
        "\n",
        "p_RJ = len(data[data['region'] == 'rio-de-janeiro-rj'])/len(data)\n",
        "\n",
        "\n",
        "print('A probabilidade do médico ser do RJ é de -> ' + str(round(p_RJ*100,2)) + '%')"
      ],
      "metadata": {
        "colab": {
          "base_uri": "https://localhost:8080/"
        },
        "id": "_VIsPltFMblV",
        "outputId": "3665e022-0dac-48e1-d5ca-782971eece6d"
      },
      "execution_count": null,
      "outputs": [
        {
          "output_type": "stream",
          "name": "stdout",
          "text": [
            "A probabilidade do médico ser do RJ é de -> 13.61%\n"
          ]
        }
      ]
    },
    {
      "cell_type": "code",
      "source": [
        "# Probabilidade do médico ser de MG\n",
        "\n",
        "p_MG = len(data[data['region'] == 'minas-gerais-mg'])/len(data)\n",
        "\n",
        "\n",
        "print('A probabilidade do médico ser do MG é de -> ' + str(round(p_MG*100,2)) + '%')"
      ],
      "metadata": {
        "colab": {
          "base_uri": "https://localhost:8080/"
        },
        "id": "SqgHuMrxMkb_",
        "outputId": "beacc773-2452-4c00-fe3b-ccfd994d5d84"
      },
      "execution_count": null,
      "outputs": [
        {
          "output_type": "stream",
          "name": "stdout",
          "text": [
            "A probabilidade do médico ser do MG é de -> 7.93%\n"
          ]
        }
      ]
    },
    {
      "cell_type": "markdown",
      "source": [
        "## **Probabilidade com União**"
      ],
      "metadata": {
        "id": "vEDTJVrjb1jN"
      }
    },
    {
      "cell_type": "code",
      "source": [
        "# Probabilidade do profissional de saúde ser um neurologista ou um cardiologista\n",
        "\n",
        "p_neuro_cardio = round(p_neurologista*100,2) + round(p_cardiologista*100,2)\n",
        "\n",
        "\n",
        "print('A probabilidade do profissional de saúde ser um neurologista ou um cardiologista -> ' + str(p_neuro_cardio) + '%')"
      ],
      "metadata": {
        "id": "LM8Y6znWcSzE",
        "colab": {
          "base_uri": "https://localhost:8080/"
        },
        "outputId": "c5ea6065-422e-4619-c20f-d470c95a38ac"
      },
      "execution_count": null,
      "outputs": [
        {
          "output_type": "stream",
          "name": "stdout",
          "text": [
            "A probabilidade do profissional de saúde ser um neurologista ou um cardiologista -> 5.0%\n"
          ]
        }
      ]
    },
    {
      "cell_type": "code",
      "source": [
        "# Probabilidade de um médico estar presente nos estados do Rio Grande do Sul ou Rio de Janeiro ou Minas Gerais\n",
        "\n",
        "p_RS_RJ_MG = len(data[(data['region'] == 'rio-grande-do-sul-rs') | (data['region'] == 'minas-gerais-mg') | (data['region'] == 'rio-de-janeiro-rj')]) / len(data)\n",
        "\n",
        "\n",
        "print('A Probabilidade de um médico estar presente nos estados do Rio Grande do Sul ou Rio de Janeiro ou Minas Gerais é de -> ' + str(round(p_RS_RJ_MG*100, 2)) + '%')"
      ],
      "metadata": {
        "colab": {
          "base_uri": "https://localhost:8080/"
        },
        "id": "Pw_58SSQSEq6",
        "outputId": "7996116f-bff3-4a1a-d70b-1445a945fe19"
      },
      "execution_count": null,
      "outputs": [
        {
          "output_type": "stream",
          "name": "stdout",
          "text": [
            "A Probabilidade de um médico estar presente nos estados do Rio Grande do Sul ou Rio de Janeiro ou Minas Gerais é de -> 25.85%\n"
          ]
        }
      ]
    },
    {
      "cell_type": "markdown",
      "source": [
        "## **Probabilidade com Intersecção**"
      ],
      "metadata": {
        "id": "vp8vox3Vdp4q"
      }
    },
    {
      "cell_type": "code",
      "source": [
        "# Probabilidade do valor de uma consulta estar entre R$250,00 e R$400,00\n",
        "\n",
        "data['price'] = pd.to_numeric(data['price'], errors ='coerce') #Transformando todos os valores da coluna em inteiros\n",
        "\n",
        "\n",
        "qntd_preco = len(data[(data['price'] > 250) & (data['price'] < 400)])\n",
        "p_preco = round(qntd_preco/len(data), 4)\n",
        "\n",
        "\n",
        "print('A Probabilidade do valor de uma consulta estar entre R$250,00 e R$400,00 é de -> ' + str(round(p_preco*100,4)) + '%')"
      ],
      "metadata": {
        "colab": {
          "base_uri": "https://localhost:8080/"
        },
        "id": "-nyFRTucx2aE",
        "outputId": "85a7fef5-85c9-4b91-f0f6-bd6878a805f8"
      },
      "execution_count": null,
      "outputs": [
        {
          "output_type": "stream",
          "name": "stdout",
          "text": [
            "A Probabilidade do valor de uma consulta estar entre R$250,00 e R$400,00 é de -> 23.1%\n"
          ]
        }
      ]
    },
    {
      "cell_type": "code",
      "source": [
        "# Probabilidade do profissional de saúde ser ginecologista e mulher\n",
        "\n",
        "p_mulher_gineco = round((p_ginecologista * p_med_mulher) * 100,2)\n",
        "\n",
        "\n",
        "print('A probabilidade do profissional de saúde ser ginecologista e mulher é de -> ' + str(p_mulher_gineco) + '%')\n"
      ],
      "metadata": {
        "colab": {
          "base_uri": "https://localhost:8080/"
        },
        "id": "A3wsCXVXeBu6",
        "outputId": "c1e8a267-742e-4653-fa07-251e1d392e7c"
      },
      "execution_count": null,
      "outputs": [
        {
          "output_type": "stream",
          "name": "stdout",
          "text": [
            "A probabilidade do profissional de saúde ser ginecologista e mulher é de -> 1.82%\n"
          ]
        }
      ]
    },
    {
      "cell_type": "code",
      "source": [
        "# Probabilidade do profissional de saúde ter mais do que 20 reviews e o preço da consulta ser menos que 300 reais\n",
        "\n",
        "p_reviews_preco = round((p_reviews * p_preco) * 100,2)\n",
        "\n",
        "\n",
        "print('A probabilidade do profissional de saúde ter mais do que 20 reviews e o preço da consulta ser menos que 300 reais é de -> ' + str(p_reviews_preco) + '%')\n"
      ],
      "metadata": {
        "colab": {
          "base_uri": "https://localhost:8080/"
        },
        "id": "SWImEt_LgsE3",
        "outputId": "43a4272e-8b56-4705-f9be-9fa99687a89c"
      },
      "execution_count": null,
      "outputs": [
        {
          "output_type": "stream",
          "name": "stdout",
          "text": [
            "A probabilidade do profissional de saúde ter mais do que 20 reviews e o preço da consulta ser menos que 300 reais é de -> 7.3%\n"
          ]
        }
      ]
    },
    {
      "cell_type": "code",
      "source": [
        "# Probabilidade de um médico ser caridiologista e estar presente no estado do Rio Grande do Sul\n",
        "\n",
        "p_card_RS = p_RS * p_cardiologista\n",
        "\n",
        "\n",
        "print('A probabilidade de um médico ser caridiologista e estar presente no estado do Rio Grande do Sul é de -> ' + str(round(p_card_RS*100,2)) + '%')\n"
      ],
      "metadata": {
        "colab": {
          "base_uri": "https://localhost:8080/"
        },
        "id": "2SvI8_yqLa8I",
        "outputId": "d3a414fd-8573-4fd4-91cd-76304e8bc1d6"
      },
      "execution_count": null,
      "outputs": [
        {
          "output_type": "stream",
          "name": "stdout",
          "text": [
            "A probabilidade de um médico ser caridiologista e estar presente no estado do Rio Grande do Sul é de -> 0.13%\n"
          ]
        }
      ]
    },
    {
      "cell_type": "code",
      "source": [
        "# Probabilidade de um médico ser caridiologista e estar presente no estado do Rio de Janeiro\n",
        "\n",
        "p_card_RJ = p_RJ * p_cardiologista\n",
        "\n",
        "\n",
        "print('A probabilidade de um médico ser caridiologista e estar presente no estado do Rio de Janeiro é de -> ' + str(round(p_card_RJ*100,2)) + '%')\n"
      ],
      "metadata": {
        "colab": {
          "base_uri": "https://localhost:8080/"
        },
        "id": "NIdrukr2NA_V",
        "outputId": "e3fda187-a19a-43e3-8d1a-fb2e740a092c"
      },
      "execution_count": null,
      "outputs": [
        {
          "output_type": "stream",
          "name": "stdout",
          "text": [
            "A probabilidade de um médico ser caridiologista e estar presente no estado do Rio de Janeiro é de -> 0.42%\n"
          ]
        }
      ]
    },
    {
      "cell_type": "code",
      "source": [
        "# Probabilidade de um médico ser caridiologista e estar presente no estado de Minas Gerais\n",
        "p_card_MG = p_MG * p_cardiologista\n",
        "\n",
        "\n",
        "print('A probabilidade de um médico ser caridiologista e estar presente no estado de minas Gerais é de -> ' + str(round(p_card_MG*100,2)) + '%')\n"
      ],
      "metadata": {
        "colab": {
          "base_uri": "https://localhost:8080/"
        },
        "id": "2WMzudwANBP8",
        "outputId": "80753302-9d7e-40da-8f66-961b1d14905b"
      },
      "execution_count": null,
      "outputs": [
        {
          "output_type": "stream",
          "name": "stdout",
          "text": [
            "A probabilidade de um médico ser caridiologista e estar presente no estado de minas Gerais é de -> 0.24%\n"
          ]
        }
      ]
    },
    {
      "cell_type": "code",
      "source": [
        "# Probabilidade de um médico ter o valor de uma consulta entre R$250,00 e R$400,00 e ser cardiologista\n",
        "\n",
        "p_preco_cardio = p_preco * p_cardiologista\n",
        "\n",
        "\n",
        "print('A probabilidade de um médico ter o valor de uma consulta entre R$250,00 e R$400,00 e ser cardiologista é de -> ' + str(round(p_preco_cardio*100,2)) + '%')\n"
      ],
      "metadata": {
        "colab": {
          "base_uri": "https://localhost:8080/"
        },
        "id": "U_Gztr3xRI-z",
        "outputId": "8f3e094b-757b-4547-fc72-2350c3488478"
      },
      "execution_count": null,
      "outputs": [
        {
          "output_type": "stream",
          "name": "stdout",
          "text": [
            "A probabilidade de um médico ter o valor de uma consulta entre R$250,00 e R$400,00 e ser cardiologista é de -> 0.71%\n"
          ]
        }
      ]
    },
    {
      "cell_type": "code",
      "source": [
        "# Probabilidade de um médico ter o valor de uma consulta entre R$250,00 e R$400,00 e ser alergista\n",
        "\n",
        "p_preco_alerg = p_preco * p_alergista\n",
        "\n",
        "\n",
        "print('A probabilidade de um médico ter o valor de uma consulta entre R$250,00 e R$400,00 e ser alergista é de -> ' + str(round(p_preco_alerg*100,2)) + '%')\n"
      ],
      "metadata": {
        "colab": {
          "base_uri": "https://localhost:8080/"
        },
        "id": "diEu2gbJRTeP",
        "outputId": "565f2fce-cb62-425a-a38b-6327caf1b273"
      },
      "execution_count": null,
      "outputs": [
        {
          "output_type": "stream",
          "name": "stdout",
          "text": [
            "A probabilidade de um médico ter o valor de uma consulta entre R$250,00 e R$400,00 e ser alergista é de -> 0.15%\n"
          ]
        }
      ]
    },
    {
      "cell_type": "code",
      "source": [
        "# Probabilidade de um médico ter o valor de uma consulta entre R$250,00 e R$400,00 e ser clínico\n",
        "\n",
        "p_preco_clin = p_preco * p_clinico\n",
        "\n",
        "\n",
        "print('A probabilidade de um médico ter o valor de uma consulta entre R$250,00 e R$400,00 e ser clinico é de -> ' + str(round(p_preco_clin*100,2)) + '%')\n"
      ],
      "metadata": {
        "colab": {
          "base_uri": "https://localhost:8080/"
        },
        "id": "f_1EGzE3n5iQ",
        "outputId": "62bc7ce6-e2a6-47a5-e65f-178e0cc82394"
      },
      "execution_count": null,
      "outputs": [
        {
          "output_type": "stream",
          "name": "stdout",
          "text": [
            "A probabilidade de um médico ter o valor de uma consulta entre R$250,00 e R$400,00 e ser clinico é de -> 0.45%\n"
          ]
        }
      ]
    },
    {
      "cell_type": "code",
      "source": [
        "# Probabilidade de um médico ter o valor de uma consulta entre R$250,00 e R$400,00 e ser cirurgiao\n",
        "\n",
        "p_preco_cirur = p_preco * p_cirurgiao\n",
        "\n",
        "\n",
        "print('A probabilidade de um médico ter o valor de uma consulta entre R$250,00 e R$400,00 e ser cirurgiao é de -> ' + str(round(p_preco_cirur*100,2)) + '%')\n"
      ],
      "metadata": {
        "colab": {
          "base_uri": "https://localhost:8080/"
        },
        "id": "QN3dWPifoKfQ",
        "outputId": "4214d737-cd64-47bb-8585-bf81df6984d9"
      },
      "execution_count": null,
      "outputs": [
        {
          "output_type": "stream",
          "name": "stdout",
          "text": [
            "A probabilidade de um médico ter o valor de uma consulta entre R$250,00 e R$400,00 e ser cirurgiao é de -> 2.01%\n"
          ]
        }
      ]
    },
    {
      "cell_type": "code",
      "source": [
        "# Probabilidade de um médico ter o valor de uma consulta entre R$250,00 e R$400,00 e ser pediatra\n",
        "\n",
        "p_preco_ped = p_preco * p_pediatra\n",
        "\n",
        "\n",
        "print('A probabilidade de um médico ter o valor de uma consulta entre R$250,00 e R$400,00 e ser pediatra é de -> ' + str(round(p_preco_ped*100,2)) + '%')\n"
      ],
      "metadata": {
        "colab": {
          "base_uri": "https://localhost:8080/"
        },
        "id": "TQvtprB_oXc3",
        "outputId": "a7263887-1f61-4121-fb2a-12a0ae207742"
      },
      "execution_count": null,
      "outputs": [
        {
          "output_type": "stream",
          "name": "stdout",
          "text": [
            "A probabilidade de um médico ter o valor de uma consulta entre R$250,00 e R$400,00 e ser pediatra é de -> 0.7%\n"
          ]
        }
      ]
    },
    {
      "cell_type": "code",
      "source": [
        "# Probabilidade de um médico ter o valor de uma consulta entre R$250,00 e R$400,00 e ser ortopedista\n",
        "\n",
        "p_preco_orto = p_preco * p_ortopedista\n",
        "\n",
        "\n",
        "print('A probabilidade de um médico ter o valor de uma consulta entre R$250,00 e R$400,00 e ser ortopedista é de -> ' + str(round(p_preco_orto*100,2)) + '%')\n"
      ],
      "metadata": {
        "colab": {
          "base_uri": "https://localhost:8080/"
        },
        "id": "pJ1kyN1pongR",
        "outputId": "8ff0bcc8-7cd8-4ab1-e436-1ebc8e0bc6a3"
      },
      "execution_count": null,
      "outputs": [
        {
          "output_type": "stream",
          "name": "stdout",
          "text": [
            "A probabilidade de um médico ter o valor de uma consulta entre R$250,00 e R$400,00 e ser ortopedista é de -> 0.87%\n"
          ]
        }
      ]
    },
    {
      "cell_type": "code",
      "source": [
        "# Probabilidade de um médico ter o valor de uma consulta entre R$250,00 e R$400,00 e ser ginecologista\n",
        "\n",
        "p_preco_gineco = p_preco * p_ginecologista\n",
        "\n",
        "\n",
        "print('A probabilidade de um médico ter o valor de uma consulta entre R$250,00 e R$400,00 e ser ginecologista é de -> ' + str(round(p_preco_gineco*100,2)) + '%')\n"
      ],
      "metadata": {
        "colab": {
          "base_uri": "https://localhost:8080/"
        },
        "id": "R-wUNiwvoxoo",
        "outputId": "306e6e83-9795-4541-fb36-c7772f5ac7d0"
      },
      "execution_count": null,
      "outputs": [
        {
          "output_type": "stream",
          "name": "stdout",
          "text": [
            "A probabilidade de um médico ter o valor de uma consulta entre R$250,00 e R$400,00 e ser ginecologista é de -> 1.13%\n"
          ]
        }
      ]
    },
    {
      "cell_type": "markdown",
      "source": [
        "## **Probabilidade de Complemento**"
      ],
      "metadata": {
        "id": "8sTdt6Nekeuj"
      }
    },
    {
      "cell_type": "code",
      "source": [
        "# A probabilidade de um profissional de saúde ser mulher e não ser ginecologista\n",
        "\n",
        "p_mulher_nao_gineco = p_med_mulher - p_ginecologista\n",
        "\n",
        "\n",
        "print('A probabilidade de um profissinal de saúde ser mulher e não ser ginegologista é de -> ' + str(round(p_mulher_nao_gineco*100,2)) + '%')"
      ],
      "metadata": {
        "colab": {
          "base_uri": "https://localhost:8080/"
        },
        "id": "HwHc1Xnnklt-",
        "outputId": "5358455c-55bf-4ad7-e604-f4d32bec2b48"
      },
      "execution_count": null,
      "outputs": [
        {
          "output_type": "stream",
          "name": "stdout",
          "text": [
            "A probabilidade de um profissinal de saúde ser mulher e não ser ginegologista é de -> 32.44%\n"
          ]
        }
      ]
    },
    {
      "cell_type": "code",
      "source": [
        "# Probabilidade de médicos que não tem atendimento online\n",
        "\n",
        "p_nao_atend_online = 1 - p_atend_online # 100% - a porcentagem que disponibilizam atendimento online\n",
        "\n",
        "\n",
        "print('A probabilidade de médicos não terem atendimento online é de -> ' + str(round(p_nao_atend_online*100,2)) + '%')"
      ],
      "metadata": {
        "colab": {
          "base_uri": "https://localhost:8080/"
        },
        "id": "olXuxdRXqSgi",
        "outputId": "6caf70ca-0762-4105-e97e-4a5303c15095"
      },
      "execution_count": null,
      "outputs": [
        {
          "output_type": "stream",
          "name": "stdout",
          "text": [
            "A probabilidade de médicos não terem atendimento online é de -> 74.72%\n"
          ]
        }
      ]
    },
    {
      "cell_type": "markdown",
      "source": [
        "## **Probabilidade da Diferença**"
      ],
      "metadata": {
        "id": "uZYe-oOSCAQx"
      }
    },
    {
      "cell_type": "code",
      "source": [
        "# Probabilidade de um médico ser um clínico e não ter atendimento online.\n",
        "\n",
        "clin_nao_atend_online = len(data[(data['specialization'].str.contains('clinico')) & (data['telemedicine'] == 0)])\n",
        "\n",
        "\n",
        "p_clin_nao_atend_online = clin_nao_atend_online/len(data)\n",
        "\n",
        "\n",
        "print(f'A probabilidade de um médico ser um clínico e não ter atendimento online é de -> {round(p_clin_nao_atend_online, 2)}%')"
      ],
      "metadata": {
        "colab": {
          "base_uri": "https://localhost:8080/"
        },
        "id": "7yhyWssPB_-B",
        "outputId": "33f7af0d-4882-45cc-8010-ee05c68b2a5d"
      },
      "execution_count": null,
      "outputs": [
        {
          "output_type": "stream",
          "name": "stdout",
          "text": [
            "A probabilidade de um médico ser um clínico e não ter atendimento online é de -> 0.02%\n"
          ]
        }
      ]
    },
    {
      "cell_type": "code",
      "source": [
        "# Probabilidade de um médico atender no Estado de São Paulo e não atender na cidade São Paulo\n",
        "\n",
        "estadoSP_nao_cidadeSP = len(data[(data['region'] == 'sao-paulo-sp') & (data['city2'] == 'sao-paulo')])\n",
        "\n",
        "\n",
        "p_estadoSP_nao_cidadeSP = estadoSP_nao_cidadeSP/len(data)\n",
        "\n",
        "\n",
        "print(f'A probabilidade de um médico atender no Estado de São Paulo e não atender na cidade São Paulo é de -> {round(p_estadoSP_nao_cidadeSP, 2)}%')"
      ],
      "metadata": {
        "colab": {
          "base_uri": "https://localhost:8080/"
        },
        "id": "CNgiOJDLE600",
        "outputId": "e42110f4-3365-42e4-a800-f7b47fedad2e"
      },
      "execution_count": null,
      "outputs": [
        {
          "output_type": "stream",
          "name": "stdout",
          "text": [
            "A probabilidade de um médico atender no Estado de São Paulo e não atender na cidade São Paulo é de -> 0.15%\n"
          ]
        }
      ]
    },
    {
      "cell_type": "code",
      "source": [
        "# Probabilidade de um médico atender remotamente e cobrar menos que R$230,00 por consulta\n",
        "\n",
        "atend_online_preco = len(data[(data['telemedicine'] == 1) & (data['price'] < 230)])\n",
        "\n",
        "p_atend_online_preco = atend_online_preco/len(data)\n",
        "\n",
        "\n",
        "print(f'A probabilidade de um médico atender remotamente e cobrar menos que R$230,00 por consulta é de -> {round(p_atend_online_preco, 2)}%')"
      ],
      "metadata": {
        "colab": {
          "base_uri": "https://localhost:8080/"
        },
        "id": "VJJv2sxGFoCf",
        "outputId": "f45ac344-7f9b-4b48-b4a5-635b0fe5a447"
      },
      "execution_count": null,
      "outputs": [
        {
          "output_type": "stream",
          "name": "stdout",
          "text": [
            "A probabilidade de um médico atender remotamente e cobrar menos que R$230,00 por consulta é de -> 0.09%\n"
          ]
        }
      ]
    },
    {
      "cell_type": "markdown",
      "source": [
        "## **Probabilidade Condicional**"
      ],
      "metadata": {
        "id": "kRtWDZQFtqwo"
      }
    },
    {
      "cell_type": "code",
      "source": [
        "# Probabilidade de ser clínico enquanto cobra de R$250,00 a R$400,00 por consulta\n",
        "\n",
        "p_Cond_preco_clin = p_preco_clin / p_preco\n",
        "\n",
        "\n",
        "print('A probabilidade de ser clínico enquanto cobra de R$250,00 a R$400,00 por consulta é de -> ' + str(round(p_Cond_preco_clin*100,2)) + '%')"
      ],
      "metadata": {
        "colab": {
          "base_uri": "https://localhost:8080/"
        },
        "id": "JvLfyRVmt1rw",
        "outputId": "76e589cf-0ed7-4edf-8c1c-14fbf8dfcc48"
      },
      "execution_count": null,
      "outputs": [
        {
          "output_type": "stream",
          "name": "stdout",
          "text": [
            "A probabilidade de ser clínico enquanto cobra de R$250,00 a R$400,00 por consulta é de -> 1.96%\n"
          ]
        }
      ]
    },
    {
      "cell_type": "code",
      "source": [
        "# Probabilidade de ser cirurgiao enquanto cobra de R$250,00 a R$400,00 por consulta\n",
        "\n",
        "p_Cond_preco_cirur = p_preco_cirur / p_preco\n",
        "\n",
        "\n",
        "print('A probabilidade de ser clínico enquanto cobra de R$250,00 a R$400,00 por consulta é de -> ' + str(round(p_Cond_preco_cirur*100,2)) + '%')"
      ],
      "metadata": {
        "colab": {
          "base_uri": "https://localhost:8080/"
        },
        "id": "ughq9n_QXNtp",
        "outputId": "d5eef841-0e90-41cd-88d7-ff1905c928c4"
      },
      "execution_count": null,
      "outputs": [
        {
          "output_type": "stream",
          "name": "stdout",
          "text": [
            "A probabilidade de ser clínico enquanto cobra de R$250,00 a R$400,00 por consulta é de -> 8.7%\n"
          ]
        }
      ]
    },
    {
      "cell_type": "code",
      "source": [
        "# Probabilidade de ser pediatra enquanto cobra de R$250,00 a R$400,00 por consulta\n",
        "\n",
        "p_Cond_preco_ped = p_preco_ped / p_preco\n",
        "\n",
        "\n",
        "print('A probabilidade de ser pediatra enquanto cobra de R$250,00 a R$400,00 por consulta é de -> ' + str(round(p_Cond_preco_ped*100,2)) + '%')"
      ],
      "metadata": {
        "colab": {
          "base_uri": "https://localhost:8080/"
        },
        "id": "S8Rg91YsqX3K",
        "outputId": "399dcd91-8161-449e-baac-36a4d530e3e7"
      },
      "execution_count": null,
      "outputs": [
        {
          "output_type": "stream",
          "name": "stdout",
          "text": [
            "A probabilidade de ser pediatra enquanto cobra de R$250,00 a R$400,00 por consulta é de -> 3.04%\n"
          ]
        }
      ]
    },
    {
      "cell_type": "code",
      "source": [
        "# Probabilidade de ser ortopedista enquanto cobra de R$250,00 a R$400,00 por consulta\n",
        "\n",
        "p_Cond_preco_orto = p_preco_orto / p_preco\n",
        "\n",
        "\n",
        "print('A probabilidade de ser ortopedista enquanto cobra de R$250,00 a R$400,00 por consulta é de -> ' + str(round(p_Cond_preco_orto*100,2)) + '%')"
      ],
      "metadata": {
        "colab": {
          "base_uri": "https://localhost:8080/"
        },
        "id": "4WKFdfWwqXs6",
        "outputId": "0c6851f0-c3b4-403a-a44f-8098ab0eadd1"
      },
      "execution_count": null,
      "outputs": [
        {
          "output_type": "stream",
          "name": "stdout",
          "text": [
            "A probabilidade de ser ortopedista enquanto cobra de R$250,00 a R$400,00 por consulta é de -> 3.75%\n"
          ]
        }
      ]
    },
    {
      "cell_type": "code",
      "source": [
        "# Probabilidade de ser ginecologista enquanto cobra de R$250,00 a R$400,00 por consulta\n",
        "\n",
        "p_Cond_preco_gineco = p_preco_gineco / p_preco\n",
        "\n",
        "\n",
        "print('A probabilidade de ser ginecologista enquanto cobra de R$250,00 a R$400,00 por consulta é de -> ' + str(round(p_Cond_preco_gineco*100,2)) + '%')"
      ],
      "metadata": {
        "colab": {
          "base_uri": "https://localhost:8080/"
        },
        "id": "WkLWW3N2qXfS",
        "outputId": "e80a30ca-3165-4a49-9b29-7c93fa6563aa"
      },
      "execution_count": null,
      "outputs": [
        {
          "output_type": "stream",
          "name": "stdout",
          "text": [
            "A probabilidade de ser ginecologista enquanto cobra de R$250,00 a R$400,00 por consulta é de -> 4.88%\n"
          ]
        }
      ]
    },
    {
      "cell_type": "markdown",
      "source": [
        "## **Teorema de Bayes**"
      ],
      "metadata": {
        "id": "LFWSDjQFGMaH"
      }
    },
    {
      "cell_type": "code",
      "source": [
        "# Probabilidade de um médico ser clínico tal que cobra de R$250,00 a R$400,00 por consulta\n",
        "\n",
        "p_Bayes_preco_clin = (p_Cond_preco_clin * p_clinico)/p_preco\n",
        "\n",
        "\n",
        "print('A probabilidade de um médico ser cirurgiao tal que cobra de R$250,00 a R$400,00 por consulta é de -> ' + str(round(p_Bayes_preco_clin*100,2)) + '%')"
      ],
      "metadata": {
        "colab": {
          "base_uri": "https://localhost:8080/"
        },
        "id": "1N-YYvT0X4lo",
        "outputId": "46e318b6-087c-4d34-c019-654ad2d184c9"
      },
      "execution_count": null,
      "outputs": [
        {
          "output_type": "stream",
          "name": "stdout",
          "text": [
            "A probabilidade de um médico ser cirurgiao tal que cobra de R$250,00 a R$400,00 por consulta é de -> 0.17%\n"
          ]
        }
      ]
    },
    {
      "cell_type": "code",
      "source": [
        "# Probabilidade de um médico ser cirurgiao tal que cobra de R$250,00 a R$400,00 por consulta\n",
        "\n",
        "p_Bayes_preco_cirur = (p_Cond_preco_cirur * p_cirurgiao)/p_preco\n",
        "\n",
        "\n",
        "print('A probabilidade de um médico ser cirurgiao tal que cobra de R$250,00 a R$400,00 por consulta é de -> ' + str(round(p_Bayes_preco_cirur*100,2)) + '%')"
      ],
      "metadata": {
        "colab": {
          "base_uri": "https://localhost:8080/"
        },
        "id": "WMK5pAUms6rd",
        "outputId": "1c835359-a123-4faf-dee1-63dd98e18c2e"
      },
      "execution_count": null,
      "outputs": [
        {
          "output_type": "stream",
          "name": "stdout",
          "text": [
            "A probabilidade de um médico ser cirurgiao tal que cobra de R$250,00 a R$400,00 por consulta é de -> 3.28%\n"
          ]
        }
      ]
    },
    {
      "cell_type": "code",
      "source": [
        "# Probabilidade de um médico ser pediatra tal que cobra de R$250,00 a R$400,00 por consulta\n",
        "\n",
        "p_Bayes_preco_ped = (p_Cond_preco_ped * p_pediatra)/p_preco\n",
        "\n",
        "\n",
        "print('A probabilidade de um médico ser cirurgiao tal que cobra de R$250,00 a R$400,00 por consulta é de -> ' + str(round(p_Bayes_preco_ped*100,2)) + '%')"
      ],
      "metadata": {
        "colab": {
          "base_uri": "https://localhost:8080/"
        },
        "id": "BX_ociWvs8ZP",
        "outputId": "6a4c08dd-5ef7-4b91-a321-b6ac450c397c"
      },
      "execution_count": null,
      "outputs": [
        {
          "output_type": "stream",
          "name": "stdout",
          "text": [
            "A probabilidade de um médico ser cirurgiao tal que cobra de R$250,00 a R$400,00 por consulta é de -> 0.4%\n"
          ]
        }
      ]
    },
    {
      "cell_type": "code",
      "source": [
        "# Probabilidade de um médico ser ortopedista tal que cobra de R$250,00 a R$400,00 por consulta\n",
        "\n",
        "p_Bayes_preco_orto = (p_Cond_preco_orto * p_ortopedista)/p_preco\n",
        "\n",
        "\n",
        "print('A probabilidade de um médico ser cirurgiao tal que cobra de R$250,00 a R$400,00 por consulta é de -> ' + str(round(p_Bayes_preco_orto*100,2)) + '%')"
      ],
      "metadata": {
        "colab": {
          "base_uri": "https://localhost:8080/"
        },
        "id": "CaCpDNXPs8r1",
        "outputId": "6a0d9785-a58e-48be-e565-9aaca4876a2c"
      },
      "execution_count": null,
      "outputs": [
        {
          "output_type": "stream",
          "name": "stdout",
          "text": [
            "A probabilidade de um médico ser cirurgiao tal que cobra de R$250,00 a R$400,00 por consulta é de -> 0.61%\n"
          ]
        }
      ]
    },
    {
      "cell_type": "code",
      "source": [
        "# Probabilidade de um médico ser ginecologista tal que cobra de R$250,00 a R$400,00 por consulta\n",
        "\n",
        "p_Bayes_preco_gineco = (p_Cond_preco_gineco * p_ginecologista)/p_preco\n",
        "\n",
        "\n",
        "print('A probabilidade de um médico ser cirurgiao tal que cobra de R$250,00 a R$400,00 por consulta é de -> ' + str(round(p_Bayes_preco_gineco*100,2)) + '%')"
      ],
      "metadata": {
        "colab": {
          "base_uri": "https://localhost:8080/"
        },
        "id": "BLmqa0jus859",
        "outputId": "f408636f-a0e9-40ad-ca53-e799f5435733"
      },
      "execution_count": null,
      "outputs": [
        {
          "output_type": "stream",
          "name": "stdout",
          "text": [
            "A probabilidade de um médico ser cirurgiao tal que cobra de R$250,00 a R$400,00 por consulta é de -> 1.03%\n"
          ]
        }
      ]
    },
    {
      "cell_type": "markdown",
      "source": [
        "## **Variáveis Aleatórias**"
      ],
      "metadata": {
        "id": "k_9WJzEflDh8"
      }
    },
    {
      "cell_type": "code",
      "source": [
        "# Definindo a nossa variavel aleatoria (melhor explicado no relatório)\n",
        "\n",
        "media_especializacao = round(data.groupby('specialization')['price'].mean(),2)\n",
        "\n",
        "\n",
        "media_especializacao = media_especializacao.to_frame().reset_index()\n",
        "media_especializacao.columns = ['Especializacao', 'Media_Preco']\n",
        "media_especializacao = media_especializacao.drop(media_especializacao[media_especializacao['Especializacao'] == 'None'].index)\n",
        "\n",
        "\n",
        "media_especializacao.head(10)"
      ],
      "metadata": {
        "colab": {
          "base_uri": "https://localhost:8080/",
          "height": 363
        },
        "id": "an4utBJrwDGa",
        "outputId": "ee08c778-1e7f-45d3-c785-b089d9ebda83"
      },
      "execution_count": null,
      "outputs": [
        {
          "output_type": "execute_result",
          "data": {
            "text/plain": [
              "                   Especializacao  Media_Preco\n",
              "0                       alergista       481.96\n",
              "1            alergista-pediatrico       337.33\n",
              "2              anatomopatologista       175.00\n",
              "3                anestesiologista       451.15\n",
              "4                    angiologista       453.01\n",
              "5                   cardiologista      1355.67\n",
              "6        cardiologista-pediatrico       309.31\n",
              "7    cirurgiao-buco-maxilo-facial       269.91\n",
              "8        cirurgiao-cardiovascular       384.40\n",
              "9  cirurgiao-cranio-maxilo-facial       383.33"
            ],
            "text/html": [
              "\n",
              "  <div id=\"df-c9dfec2c-1c24-43d1-a205-38721a1b0042\" class=\"colab-df-container\">\n",
              "    <div>\n",
              "<style scoped>\n",
              "    .dataframe tbody tr th:only-of-type {\n",
              "        vertical-align: middle;\n",
              "    }\n",
              "\n",
              "    .dataframe tbody tr th {\n",
              "        vertical-align: top;\n",
              "    }\n",
              "\n",
              "    .dataframe thead th {\n",
              "        text-align: right;\n",
              "    }\n",
              "</style>\n",
              "<table border=\"1\" class=\"dataframe\">\n",
              "  <thead>\n",
              "    <tr style=\"text-align: right;\">\n",
              "      <th></th>\n",
              "      <th>Especializacao</th>\n",
              "      <th>Media_Preco</th>\n",
              "    </tr>\n",
              "  </thead>\n",
              "  <tbody>\n",
              "    <tr>\n",
              "      <th>0</th>\n",
              "      <td>alergista</td>\n",
              "      <td>481.96</td>\n",
              "    </tr>\n",
              "    <tr>\n",
              "      <th>1</th>\n",
              "      <td>alergista-pediatrico</td>\n",
              "      <td>337.33</td>\n",
              "    </tr>\n",
              "    <tr>\n",
              "      <th>2</th>\n",
              "      <td>anatomopatologista</td>\n",
              "      <td>175.00</td>\n",
              "    </tr>\n",
              "    <tr>\n",
              "      <th>3</th>\n",
              "      <td>anestesiologista</td>\n",
              "      <td>451.15</td>\n",
              "    </tr>\n",
              "    <tr>\n",
              "      <th>4</th>\n",
              "      <td>angiologista</td>\n",
              "      <td>453.01</td>\n",
              "    </tr>\n",
              "    <tr>\n",
              "      <th>5</th>\n",
              "      <td>cardiologista</td>\n",
              "      <td>1355.67</td>\n",
              "    </tr>\n",
              "    <tr>\n",
              "      <th>6</th>\n",
              "      <td>cardiologista-pediatrico</td>\n",
              "      <td>309.31</td>\n",
              "    </tr>\n",
              "    <tr>\n",
              "      <th>7</th>\n",
              "      <td>cirurgiao-buco-maxilo-facial</td>\n",
              "      <td>269.91</td>\n",
              "    </tr>\n",
              "    <tr>\n",
              "      <th>8</th>\n",
              "      <td>cirurgiao-cardiovascular</td>\n",
              "      <td>384.40</td>\n",
              "    </tr>\n",
              "    <tr>\n",
              "      <th>9</th>\n",
              "      <td>cirurgiao-cranio-maxilo-facial</td>\n",
              "      <td>383.33</td>\n",
              "    </tr>\n",
              "  </tbody>\n",
              "</table>\n",
              "</div>\n",
              "    <div class=\"colab-df-buttons\">\n",
              "\n",
              "  <div class=\"colab-df-container\">\n",
              "    <button class=\"colab-df-convert\" onclick=\"convertToInteractive('df-c9dfec2c-1c24-43d1-a205-38721a1b0042')\"\n",
              "            title=\"Convert this dataframe to an interactive table.\"\n",
              "            style=\"display:none;\">\n",
              "\n",
              "  <svg xmlns=\"http://www.w3.org/2000/svg\" height=\"24px\" viewBox=\"0 -960 960 960\">\n",
              "    <path d=\"M120-120v-720h720v720H120Zm60-500h600v-160H180v160Zm220 220h160v-160H400v160Zm0 220h160v-160H400v160ZM180-400h160v-160H180v160Zm440 0h160v-160H620v160ZM180-180h160v-160H180v160Zm440 0h160v-160H620v160Z\"/>\n",
              "  </svg>\n",
              "    </button>\n",
              "\n",
              "  <style>\n",
              "    .colab-df-container {\n",
              "      display:flex;\n",
              "      gap: 12px;\n",
              "    }\n",
              "\n",
              "    .colab-df-convert {\n",
              "      background-color: #E8F0FE;\n",
              "      border: none;\n",
              "      border-radius: 50%;\n",
              "      cursor: pointer;\n",
              "      display: none;\n",
              "      fill: #1967D2;\n",
              "      height: 32px;\n",
              "      padding: 0 0 0 0;\n",
              "      width: 32px;\n",
              "    }\n",
              "\n",
              "    .colab-df-convert:hover {\n",
              "      background-color: #E2EBFA;\n",
              "      box-shadow: 0px 1px 2px rgba(60, 64, 67, 0.3), 0px 1px 3px 1px rgba(60, 64, 67, 0.15);\n",
              "      fill: #174EA6;\n",
              "    }\n",
              "\n",
              "    .colab-df-buttons div {\n",
              "      margin-bottom: 4px;\n",
              "    }\n",
              "\n",
              "    [theme=dark] .colab-df-convert {\n",
              "      background-color: #3B4455;\n",
              "      fill: #D2E3FC;\n",
              "    }\n",
              "\n",
              "    [theme=dark] .colab-df-convert:hover {\n",
              "      background-color: #434B5C;\n",
              "      box-shadow: 0px 1px 3px 1px rgba(0, 0, 0, 0.15);\n",
              "      filter: drop-shadow(0px 1px 2px rgba(0, 0, 0, 0.3));\n",
              "      fill: #FFFFFF;\n",
              "    }\n",
              "  </style>\n",
              "\n",
              "    <script>\n",
              "      const buttonEl =\n",
              "        document.querySelector('#df-c9dfec2c-1c24-43d1-a205-38721a1b0042 button.colab-df-convert');\n",
              "      buttonEl.style.display =\n",
              "        google.colab.kernel.accessAllowed ? 'block' : 'none';\n",
              "\n",
              "      async function convertToInteractive(key) {\n",
              "        const element = document.querySelector('#df-c9dfec2c-1c24-43d1-a205-38721a1b0042');\n",
              "        const dataTable =\n",
              "          await google.colab.kernel.invokeFunction('convertToInteractive',\n",
              "                                                    [key], {});\n",
              "        if (!dataTable) return;\n",
              "\n",
              "        const docLinkHtml = 'Like what you see? Visit the ' +\n",
              "          '<a target=\"_blank\" href=https://colab.research.google.com/notebooks/data_table.ipynb>data table notebook</a>'\n",
              "          + ' to learn more about interactive tables.';\n",
              "        element.innerHTML = '';\n",
              "        dataTable['output_type'] = 'display_data';\n",
              "        await google.colab.output.renderOutput(dataTable, element);\n",
              "        const docLink = document.createElement('div');\n",
              "        docLink.innerHTML = docLinkHtml;\n",
              "        element.appendChild(docLink);\n",
              "      }\n",
              "    </script>\n",
              "  </div>\n",
              "\n",
              "\n",
              "<div id=\"df-a040f918-b1ed-4c9b-80fb-22e82b4def69\">\n",
              "  <button class=\"colab-df-quickchart\" onclick=\"quickchart('df-a040f918-b1ed-4c9b-80fb-22e82b4def69')\"\n",
              "            title=\"Suggest charts\"\n",
              "            style=\"display:none;\">\n",
              "\n",
              "<svg xmlns=\"http://www.w3.org/2000/svg\" height=\"24px\"viewBox=\"0 0 24 24\"\n",
              "     width=\"24px\">\n",
              "    <g>\n",
              "        <path d=\"M19 3H5c-1.1 0-2 .9-2 2v14c0 1.1.9 2 2 2h14c1.1 0 2-.9 2-2V5c0-1.1-.9-2-2-2zM9 17H7v-7h2v7zm4 0h-2V7h2v10zm4 0h-2v-4h2v4z\"/>\n",
              "    </g>\n",
              "</svg>\n",
              "  </button>\n",
              "\n",
              "<style>\n",
              "  .colab-df-quickchart {\n",
              "      --bg-color: #E8F0FE;\n",
              "      --fill-color: #1967D2;\n",
              "      --hover-bg-color: #E2EBFA;\n",
              "      --hover-fill-color: #174EA6;\n",
              "      --disabled-fill-color: #AAA;\n",
              "      --disabled-bg-color: #DDD;\n",
              "  }\n",
              "\n",
              "  [theme=dark] .colab-df-quickchart {\n",
              "      --bg-color: #3B4455;\n",
              "      --fill-color: #D2E3FC;\n",
              "      --hover-bg-color: #434B5C;\n",
              "      --hover-fill-color: #FFFFFF;\n",
              "      --disabled-bg-color: #3B4455;\n",
              "      --disabled-fill-color: #666;\n",
              "  }\n",
              "\n",
              "  .colab-df-quickchart {\n",
              "    background-color: var(--bg-color);\n",
              "    border: none;\n",
              "    border-radius: 50%;\n",
              "    cursor: pointer;\n",
              "    display: none;\n",
              "    fill: var(--fill-color);\n",
              "    height: 32px;\n",
              "    padding: 0;\n",
              "    width: 32px;\n",
              "  }\n",
              "\n",
              "  .colab-df-quickchart:hover {\n",
              "    background-color: var(--hover-bg-color);\n",
              "    box-shadow: 0 1px 2px rgba(60, 64, 67, 0.3), 0 1px 3px 1px rgba(60, 64, 67, 0.15);\n",
              "    fill: var(--button-hover-fill-color);\n",
              "  }\n",
              "\n",
              "  .colab-df-quickchart-complete:disabled,\n",
              "  .colab-df-quickchart-complete:disabled:hover {\n",
              "    background-color: var(--disabled-bg-color);\n",
              "    fill: var(--disabled-fill-color);\n",
              "    box-shadow: none;\n",
              "  }\n",
              "\n",
              "  .colab-df-spinner {\n",
              "    border: 2px solid var(--fill-color);\n",
              "    border-color: transparent;\n",
              "    border-bottom-color: var(--fill-color);\n",
              "    animation:\n",
              "      spin 1s steps(1) infinite;\n",
              "  }\n",
              "\n",
              "  @keyframes spin {\n",
              "    0% {\n",
              "      border-color: transparent;\n",
              "      border-bottom-color: var(--fill-color);\n",
              "      border-left-color: var(--fill-color);\n",
              "    }\n",
              "    20% {\n",
              "      border-color: transparent;\n",
              "      border-left-color: var(--fill-color);\n",
              "      border-top-color: var(--fill-color);\n",
              "    }\n",
              "    30% {\n",
              "      border-color: transparent;\n",
              "      border-left-color: var(--fill-color);\n",
              "      border-top-color: var(--fill-color);\n",
              "      border-right-color: var(--fill-color);\n",
              "    }\n",
              "    40% {\n",
              "      border-color: transparent;\n",
              "      border-right-color: var(--fill-color);\n",
              "      border-top-color: var(--fill-color);\n",
              "    }\n",
              "    60% {\n",
              "      border-color: transparent;\n",
              "      border-right-color: var(--fill-color);\n",
              "    }\n",
              "    80% {\n",
              "      border-color: transparent;\n",
              "      border-right-color: var(--fill-color);\n",
              "      border-bottom-color: var(--fill-color);\n",
              "    }\n",
              "    90% {\n",
              "      border-color: transparent;\n",
              "      border-bottom-color: var(--fill-color);\n",
              "    }\n",
              "  }\n",
              "</style>\n",
              "\n",
              "  <script>\n",
              "    async function quickchart(key) {\n",
              "      const quickchartButtonEl =\n",
              "        document.querySelector('#' + key + ' button');\n",
              "      quickchartButtonEl.disabled = true;  // To prevent multiple clicks.\n",
              "      quickchartButtonEl.classList.add('colab-df-spinner');\n",
              "      try {\n",
              "        const charts = await google.colab.kernel.invokeFunction(\n",
              "            'suggestCharts', [key], {});\n",
              "      } catch (error) {\n",
              "        console.error('Error during call to suggestCharts:', error);\n",
              "      }\n",
              "      quickchartButtonEl.classList.remove('colab-df-spinner');\n",
              "      quickchartButtonEl.classList.add('colab-df-quickchart-complete');\n",
              "    }\n",
              "    (() => {\n",
              "      let quickchartButtonEl =\n",
              "        document.querySelector('#df-a040f918-b1ed-4c9b-80fb-22e82b4def69 button');\n",
              "      quickchartButtonEl.style.display =\n",
              "        google.colab.kernel.accessAllowed ? 'block' : 'none';\n",
              "    })();\n",
              "  </script>\n",
              "</div>\n",
              "    </div>\n",
              "  </div>\n"
            ],
            "application/vnd.google.colaboratory.intrinsic+json": {
              "type": "dataframe",
              "variable_name": "media_especializacao",
              "summary": "{\n  \"name\": \"media_especializacao\",\n  \"rows\": 99,\n  \"fields\": [\n    {\n      \"column\": \"Especializacao\",\n      \"properties\": {\n        \"dtype\": \"string\",\n        \"num_unique_values\": 99,\n        \"samples\": [\n          \"medico-do-sono\",\n          \"fonoaudiologo\",\n          \"sexologo\"\n        ],\n        \"semantic_type\": \"\",\n        \"description\": \"\"\n      }\n    },\n    {\n      \"column\": \"Media_Preco\",\n      \"properties\": {\n        \"dtype\": \"number\",\n        \"std\": 1147.3034689736294,\n        \"min\": 80.25,\n        \"max\": 7161.79,\n        \"num_unique_values\": 99,\n        \"samples\": [\n          452.08,\n          157.76,\n          259.73\n        ],\n        \"semantic_type\": \"\",\n        \"description\": \"\"\n      }\n    }\n  ]\n}"
            }
          },
          "metadata": {},
          "execution_count": 105
        }
      ]
    },
    {
      "cell_type": "code",
      "source": [
        "valor_min = media_especializacao['Media_Preco'].min()\n",
        "valor_max = media_especializacao['Media_Preco'].max()\n",
        "\n",
        "\n",
        "print('Menor valor -> ' + str(valor_min))\n",
        "print('Maior valor -> ' + str(valor_max))\n"
      ],
      "metadata": {
        "colab": {
          "base_uri": "https://localhost:8080/"
        },
        "id": "7cYeYy_9-Zsa",
        "outputId": "500f48c7-862b-4089-c95c-6446cdce79c3"
      },
      "execution_count": null,
      "outputs": [
        {
          "output_type": "stream",
          "name": "stdout",
          "text": [
            "Menor valor -> 80.25\n",
            "Maior valor -> 7161.79\n"
          ]
        }
      ]
    },
    {
      "cell_type": "code",
      "source": [
        "# Classificando os intervalos que serão utilizados para a func. probabilidade e cumulativa\n",
        "\n",
        "def categorize_price(value):\n",
        "  if (value >= valor_min) & (value < 300):\n",
        "    return (f'R${valor_min} - R$799.99')\n",
        "\n",
        "  elif (value >= 300) & (value < 500):\n",
        "    return (f'R$300.00 - R$499.99')\n",
        "\n",
        "  elif (value >= 500) & (value < 800):\n",
        "    return 'R$500.00 - R$799.99'\n",
        "\n",
        "  elif (value >= 800) & (value < 1300):\n",
        "    return 'R$800.00 - R$1299.99'\n",
        "\n",
        "  elif (value >= 1300) & (value < 2500):\n",
        "    return 'R$1300.00 - R$2499.99'\n",
        "\n",
        "  elif (value >= 2500) & (value < 4500):\n",
        "    return 'R$2500.00 - R$4499.99'\n",
        "\n",
        "  elif (value >= 4500) & (value < 6300):\n",
        "    return 'R$4500.00 - R$6299.99'\n",
        "\n",
        "  elif (value >= 6300) & (value < valor_max):\n",
        "    return (f'R$6300.00 - R${valor_max-1}')\n",
        "\n",
        "  else:\n",
        "    return(f'R${value}')\n",
        "\n",
        "\n",
        "media_especializacao['Categoria_Preco'] = media_especializacao['Media_Preco'].apply(categorize_price)\n",
        "\n",
        "\n",
        "media_especializacao['Categoria_Preco'].value_counts()\n"
      ],
      "metadata": {
        "colab": {
          "base_uri": "https://localhost:8080/"
        },
        "id": "LyOI3Ab0F7ZC",
        "outputId": "3efb4911-6d26-48ec-ed53-227131f204ce"
      },
      "execution_count": null,
      "outputs": [
        {
          "output_type": "execute_result",
          "data": {
            "text/plain": [
              "Categoria_Preco\n",
              "R$300.00 - R$499.99      55\n",
              "R$80.25 - R$799.99       17\n",
              "R$500.00 - R$799.99      15\n",
              "R$800.00 - R$1299.99      4\n",
              "R$2500.00 - R$4499.99     4\n",
              "R$4500.00 - R$6299.99     2\n",
              "R$1300.00 - R$2499.99     1\n",
              "R$7161.79                 1\n",
              "Name: count, dtype: int64"
            ]
          },
          "metadata": {},
          "execution_count": 107
        }
      ]
    },
    {
      "cell_type": "markdown",
      "source": [
        "## **Função Probabilidade**"
      ],
      "metadata": {
        "id": "ljHXYlDW6PpH"
      }
    },
    {
      "cell_type": "code",
      "source": [
        "# Definindo a nossa função probabilidade\n",
        "\n",
        "func_prob = round(media_especializacao['Categoria_Preco'].value_counts()/media_especializacao['Categoria_Preco'].count(),2)\n",
        "print(func_prob)"
      ],
      "metadata": {
        "colab": {
          "base_uri": "https://localhost:8080/"
        },
        "id": "GyXajVcYGzQk",
        "outputId": "20411fa4-d761-4e10-ade3-3f639d2606dd"
      },
      "execution_count": null,
      "outputs": [
        {
          "output_type": "stream",
          "name": "stdout",
          "text": [
            "Categoria_Preco\n",
            "R$300.00 - R$499.99      0.56\n",
            "R$80.25 - R$799.99       0.17\n",
            "R$500.00 - R$799.99      0.15\n",
            "R$800.00 - R$1299.99     0.04\n",
            "R$2500.00 - R$4499.99    0.04\n",
            "R$4500.00 - R$6299.99    0.02\n",
            "R$1300.00 - R$2499.99    0.01\n",
            "R$7161.79                0.01\n",
            "Name: count, dtype: float64\n"
          ]
        }
      ]
    },
    {
      "cell_type": "markdown",
      "source": [
        "## **Função Repartição (Função Cumulativa)**"
      ],
      "metadata": {
        "id": "bZFoiPGP6aQ_"
      }
    },
    {
      "cell_type": "code",
      "source": [
        "# Definindo a nossa função cumulativa\n",
        "\n",
        "func_prob.cumsum()"
      ],
      "metadata": {
        "id": "5HGy24RC6MFA",
        "outputId": "7351041b-7e3a-4e79-f44d-1332493c7aee",
        "colab": {
          "base_uri": "https://localhost:8080/"
        }
      },
      "execution_count": null,
      "outputs": [
        {
          "output_type": "execute_result",
          "data": {
            "text/plain": [
              "Categoria_Preco\n",
              "R$300.00 - R$499.99      0.56\n",
              "R$80.25 - R$799.99       0.73\n",
              "R$500.00 - R$799.99      0.88\n",
              "R$800.00 - R$1299.99     0.92\n",
              "R$2500.00 - R$4499.99    0.96\n",
              "R$4500.00 - R$6299.99    0.98\n",
              "R$1300.00 - R$2499.99    0.99\n",
              "R$7161.79                1.00\n",
              "Name: count, dtype: float64"
            ]
          },
          "metadata": {},
          "execution_count": 109
        }
      ]
    },
    {
      "cell_type": "markdown",
      "source": [
        "## **Gráfico Simples**"
      ],
      "metadata": {
        "id": "Z8hzU8pT6xlQ"
      }
    },
    {
      "cell_type": "code",
      "source": [
        "#Plotando o gráfico da função cumulativa\n",
        "\n",
        "func_graph = func_prob.cumsum()\n",
        "\n",
        "\n",
        "intervalos = [f'Int {i}' for i in range(1, 9)]\n",
        "plt.xticks(range(len(intervalos)), intervalos)\n",
        "\n",
        "\n",
        "plt.plot(func_graph, linestyle='-')\n",
        "\n",
        "\n",
        "plt.title('Gráfico da Função Cumulativa')\n",
        "plt.xlabel('Intervalos (ordem crescente)')\n",
        "plt.ylabel('Probabilidade')"
      ],
      "metadata": {
        "id": "KCJQqPFD6xUZ",
        "outputId": "21624e61-e5d0-4ac9-f361-327c275a8015",
        "colab": {
          "base_uri": "https://localhost:8080/",
          "height": 489
        }
      },
      "execution_count": null,
      "outputs": [
        {
          "output_type": "execute_result",
          "data": {
            "text/plain": [
              "Text(0, 0.5, 'Probabilidade')"
            ]
          },
          "metadata": {},
          "execution_count": 110
        },
        {
          "output_type": "display_data",
          "data": {
            "text/plain": [
              "<Figure size 640x480 with 1 Axes>"
            ],
            "image/png": "[encoded data removed]"
          },
          "metadata": {}
        }
      ]
    }
  ]
}